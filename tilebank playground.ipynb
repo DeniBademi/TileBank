{
 "cells": [
  {
   "cell_type": "code",
   "execution_count": 1,
   "metadata": {},
   "outputs": [],
   "source": [
    "from tile_bank_repository import TileBankRepository\n",
    "from datetime import datetime\n",
    "import numpy as np"
   ]
  },
  {
   "cell_type": "markdown",
   "metadata": {},
   "source": [
    "## Initialize TileBank Repository"
   ]
  },
  {
   "cell_type": "code",
   "execution_count": 2,
   "metadata": {},
   "outputs": [],
   "source": [
    "repo = TileBankRepository()"
   ]
  },
  {
   "cell_type": "code",
   "execution_count": 3,
   "metadata": {},
   "outputs": [
    {
     "data": {
      "text/html": [
       "<div>\n",
       "<style scoped>\n",
       "    .dataframe tbody tr th:only-of-type {\n",
       "        vertical-align: middle;\n",
       "    }\n",
       "\n",
       "    .dataframe tbody tr th {\n",
       "        vertical-align: top;\n",
       "    }\n",
       "\n",
       "    .dataframe thead th {\n",
       "        text-align: right;\n",
       "    }\n",
       "</style>\n",
       "<table border=\"1\" class=\"dataframe\">\n",
       "  <thead>\n",
       "    <tr style=\"text-align: right;\">\n",
       "      <th></th>\n",
       "      <th>column_name</th>\n",
       "      <th>column_type</th>\n",
       "      <th>null</th>\n",
       "      <th>key</th>\n",
       "      <th>default</th>\n",
       "      <th>extra</th>\n",
       "    </tr>\n",
       "  </thead>\n",
       "  <tbody>\n",
       "    <tr>\n",
       "      <th>0</th>\n",
       "      <td>id</td>\n",
       "      <td>INTEGER</td>\n",
       "      <td>NO</td>\n",
       "      <td>PRI</td>\n",
       "      <td>nextval('seq_satellite_id')</td>\n",
       "      <td>None</td>\n",
       "    </tr>\n",
       "    <tr>\n",
       "      <th>1</th>\n",
       "      <td>name</td>\n",
       "      <td>VARCHAR</td>\n",
       "      <td>NO</td>\n",
       "      <td>None</td>\n",
       "      <td>None</td>\n",
       "      <td>None</td>\n",
       "    </tr>\n",
       "    <tr>\n",
       "      <th>2</th>\n",
       "      <td>resolution_cm</td>\n",
       "      <td>INTEGER</td>\n",
       "      <td>NO</td>\n",
       "      <td>None</td>\n",
       "      <td>None</td>\n",
       "      <td>None</td>\n",
       "    </tr>\n",
       "    <tr>\n",
       "      <th>3</th>\n",
       "      <td>type</td>\n",
       "      <td>ENUM('optic', 'radar')</td>\n",
       "      <td>NO</td>\n",
       "      <td>None</td>\n",
       "      <td>None</td>\n",
       "      <td>None</td>\n",
       "    </tr>\n",
       "    <tr>\n",
       "      <th>4</th>\n",
       "      <td>date_created</td>\n",
       "      <td>TIMESTAMP</td>\n",
       "      <td>NO</td>\n",
       "      <td>None</td>\n",
       "      <td>CURRENT_TIMESTAMP</td>\n",
       "      <td>None</td>\n",
       "    </tr>\n",
       "  </tbody>\n",
       "</table>\n",
       "</div>"
      ],
      "text/plain": [
       "     column_name             column_type null   key  \\\n",
       "0             id                 INTEGER   NO   PRI   \n",
       "1           name                 VARCHAR   NO  None   \n",
       "2  resolution_cm                 INTEGER   NO  None   \n",
       "3           type  ENUM('optic', 'radar')   NO  None   \n",
       "4   date_created               TIMESTAMP   NO  None   \n",
       "\n",
       "                       default extra  \n",
       "0  nextval('seq_satellite_id')  None  \n",
       "1                         None  None  \n",
       "2                         None  None  \n",
       "3                         None  None  \n",
       "4            CURRENT_TIMESTAMP  None  "
      ]
     },
     "execution_count": 3,
     "metadata": {},
     "output_type": "execute_result"
    }
   ],
   "source": [
    "repo.get_table_schema(\"satellite\")"
   ]
  },
  {
   "cell_type": "code",
   "execution_count": 4,
   "metadata": {},
   "outputs": [
    {
     "data": {
      "text/html": [
       "<div>\n",
       "<style scoped>\n",
       "    .dataframe tbody tr th:only-of-type {\n",
       "        vertical-align: middle;\n",
       "    }\n",
       "\n",
       "    .dataframe tbody tr th {\n",
       "        vertical-align: top;\n",
       "    }\n",
       "\n",
       "    .dataframe thead th {\n",
       "        text-align: right;\n",
       "    }\n",
       "</style>\n",
       "<table border=\"1\" class=\"dataframe\">\n",
       "  <thead>\n",
       "    <tr style=\"text-align: right;\">\n",
       "      <th></th>\n",
       "      <th>name</th>\n",
       "      <th>type</th>\n",
       "    </tr>\n",
       "  </thead>\n",
       "  <tbody>\n",
       "    <tr>\n",
       "      <th>0</th>\n",
       "      <td>Sentinel-2</td>\n",
       "      <td>optic</td>\n",
       "    </tr>\n",
       "    <tr>\n",
       "      <th>1</th>\n",
       "      <td>Sentinel-1</td>\n",
       "      <td>radar</td>\n",
       "    </tr>\n",
       "    <tr>\n",
       "      <th>2</th>\n",
       "      <td>Pleiades-50</td>\n",
       "      <td>optic</td>\n",
       "    </tr>\n",
       "    <tr>\n",
       "      <th>3</th>\n",
       "      <td>PleiadesNEO</td>\n",
       "      <td>optic</td>\n",
       "    </tr>\n",
       "    <tr>\n",
       "      <th>4</th>\n",
       "      <td>ortophoto25</td>\n",
       "      <td>optic</td>\n",
       "    </tr>\n",
       "  </tbody>\n",
       "</table>\n",
       "</div>"
      ],
      "text/plain": [
       "          name   type\n",
       "0   Sentinel-2  optic\n",
       "1   Sentinel-1  radar\n",
       "2  Pleiades-50  optic\n",
       "3  PleiadesNEO  optic\n",
       "4  ortophoto25  optic"
      ]
     },
     "execution_count": 4,
     "metadata": {},
     "output_type": "execute_result"
    }
   ],
   "source": [
    "repo.get_all(\"satellite\", [\"name\", \"type\"])\n",
    "\n",
    "#repo.get_all(\"satellite2\") # should raise an error since the table does not exist"
   ]
  },
  {
   "cell_type": "code",
   "execution_count": 5,
   "metadata": {},
   "outputs": [
    {
     "data": {
      "text/html": [
       "<div>\n",
       "<style scoped>\n",
       "    .dataframe tbody tr th:only-of-type {\n",
       "        vertical-align: middle;\n",
       "    }\n",
       "\n",
       "    .dataframe tbody tr th {\n",
       "        vertical-align: top;\n",
       "    }\n",
       "\n",
       "    .dataframe thead th {\n",
       "        text-align: right;\n",
       "    }\n",
       "</style>\n",
       "<table border=\"1\" class=\"dataframe\">\n",
       "  <thead>\n",
       "    <tr style=\"text-align: right;\">\n",
       "      <th></th>\n",
       "      <th>id</th>\n",
       "      <th>name</th>\n",
       "      <th>resolution_cm</th>\n",
       "      <th>type</th>\n",
       "      <th>date_created</th>\n",
       "    </tr>\n",
       "  </thead>\n",
       "  <tbody>\n",
       "    <tr>\n",
       "      <th>0</th>\n",
       "      <td>1</td>\n",
       "      <td>Sentinel-2</td>\n",
       "      <td>100</td>\n",
       "      <td>optic</td>\n",
       "      <td>2025-07-11 17:36:02.513</td>\n",
       "    </tr>\n",
       "  </tbody>\n",
       "</table>\n",
       "</div>"
      ],
      "text/plain": [
       "   id        name  resolution_cm   type            date_created\n",
       "0   1  Sentinel-2            100  optic 2025-07-11 17:36:02.513"
      ]
     },
     "execution_count": 5,
     "metadata": {},
     "output_type": "execute_result"
    }
   ],
   "source": [
    "repo.find(\"satellite\", name=\"Sentinel-2\")"
   ]
  },
  {
   "cell_type": "code",
   "execution_count": 6,
   "metadata": {},
   "outputs": [
    {
     "data": {
      "text/html": [
       "<div>\n",
       "<style scoped>\n",
       "    .dataframe tbody tr th:only-of-type {\n",
       "        vertical-align: middle;\n",
       "    }\n",
       "\n",
       "    .dataframe tbody tr th {\n",
       "        vertical-align: top;\n",
       "    }\n",
       "\n",
       "    .dataframe thead th {\n",
       "        text-align: right;\n",
       "    }\n",
       "</style>\n",
       "<table border=\"1\" class=\"dataframe\">\n",
       "  <thead>\n",
       "    <tr style=\"text-align: right;\">\n",
       "      <th></th>\n",
       "      <th>id</th>\n",
       "      <th>name</th>\n",
       "      <th>resolution_cm</th>\n",
       "      <th>type</th>\n",
       "      <th>date_created</th>\n",
       "    </tr>\n",
       "  </thead>\n",
       "  <tbody>\n",
       "    <tr>\n",
       "      <th>0</th>\n",
       "      <td>4</td>\n",
       "      <td>PleiadesNEO</td>\n",
       "      <td>30</td>\n",
       "      <td>optic</td>\n",
       "      <td>2025-07-11 17:36:02.524</td>\n",
       "    </tr>\n",
       "  </tbody>\n",
       "</table>\n",
       "</div>"
      ],
      "text/plain": [
       "   id         name  resolution_cm   type            date_created\n",
       "0   4  PleiadesNEO             30  optic 2025-07-11 17:36:02.524"
      ]
     },
     "execution_count": 6,
     "metadata": {},
     "output_type": "execute_result"
    }
   ],
   "source": [
    "repo.get_by_id(\"satellite\", 4)\n",
    "\n",
    "#repo.get_by_id(\"satellite\", 56) # should raise an error since the record does not exist"
   ]
  },
  {
   "cell_type": "markdown",
   "metadata": {},
   "source": [
    "## Adding new records"
   ]
  },
  {
   "cell_type": "markdown",
   "metadata": {},
   "source": [
    "We can add new records to the db that are saved in files already like so:"
   ]
  },
  {
   "cell_type": "code",
   "execution_count": 7,
   "metadata": {},
   "outputs": [
    {
     "ename": "ValueError",
     "evalue": "File 0_4736.npy does not exist",
     "output_type": "error",
     "traceback": [
      "\u001b[1;31m---------------------------------------------------------------------------\u001b[0m",
      "\u001b[1;31mValueError\u001b[0m                                Traceback (most recent call last)",
      "Cell \u001b[1;32mIn[7], line 1\u001b[0m\n\u001b[1;32m----> 1\u001b[0m \u001b[43mrepo\u001b[49m\u001b[38;5;241;43m.\u001b[39;49m\u001b[43madd_single_tile_from_path\u001b[49m\u001b[43m(\u001b[49m\u001b[38;5;124;43m\"\u001b[39;49m\u001b[38;5;124;43m0_4736.npy\u001b[39;49m\u001b[38;5;124;43m\"\u001b[39;49m\u001b[43m,\u001b[49m\u001b[43m \u001b[49m\u001b[38;5;124;43m\"\u001b[39;49m\u001b[38;5;124;43mSentinel-2\u001b[39;49m\u001b[38;5;124;43m\"\u001b[39;49m\u001b[43m,\u001b[49m\u001b[43m \u001b[49m\u001b[43mdatetime\u001b[49m\u001b[38;5;241;43m.\u001b[39;49m\u001b[43mnow\u001b[49m\u001b[43m(\u001b[49m\u001b[43m)\u001b[49m\u001b[43m)\u001b[49m\n\u001b[0;32m      3\u001b[0m \u001b[38;5;66;03m# second attempt to add the same tile should raise an error\u001b[39;00m\n\u001b[0;32m      4\u001b[0m \u001b[38;5;66;03m# repo.add_single_tile_from_path(\"0_47362.npy\", \"Sentinel-2\", datetime.now())\u001b[39;00m\n\u001b[0;32m      5\u001b[0m \n\u001b[1;32m   (...)\u001b[0m\n\u001b[0;32m     12\u001b[0m \u001b[38;5;66;03m# providing an invalid date should raise an error\u001b[39;00m\n\u001b[0;32m     13\u001b[0m \u001b[38;5;66;03m#repo.add_tile(\"0_4736.npy\", \"Sentinel-2\", \"invalid_date\")\u001b[39;00m\n",
      "File \u001b[1;32mc:\\Users\\dzahariev\\Desktop\\TileDB\\tile_bank_repository.py:70\u001b[0m, in \u001b[0;36mTileBankRepository.add_single_tile_from_path\u001b[1;34m(self, path, satellite_name, date_origin, exists_ok)\u001b[0m\n\u001b[0;32m     68\u001b[0m \u001b[38;5;66;03m# Verify that the file exists\u001b[39;00m\n\u001b[0;32m     69\u001b[0m \u001b[38;5;28;01mif\u001b[39;00m \u001b[38;5;129;01mnot\u001b[39;00m os\u001b[38;5;241m.\u001b[39mpath\u001b[38;5;241m.\u001b[39mexists(path):\n\u001b[1;32m---> 70\u001b[0m     \u001b[38;5;28;01mraise\u001b[39;00m \u001b[38;5;167;01mValueError\u001b[39;00m(\u001b[38;5;124mf\u001b[39m\u001b[38;5;124m\"\u001b[39m\u001b[38;5;124mFile \u001b[39m\u001b[38;5;132;01m{\u001b[39;00mpath\u001b[38;5;132;01m}\u001b[39;00m\u001b[38;5;124m does not exist\u001b[39m\u001b[38;5;124m\"\u001b[39m)\n\u001b[0;32m     73\u001b[0m \u001b[38;5;28;01mtry\u001b[39;00m:\n\u001b[0;32m     74\u001b[0m     tile \u001b[38;5;241m=\u001b[39m \u001b[38;5;28mself\u001b[39m\u001b[38;5;241m.\u001b[39madd_record(\u001b[38;5;124m\"\u001b[39m\u001b[38;5;124mtile\u001b[39m\u001b[38;5;124m\"\u001b[39m, {\n\u001b[0;32m     75\u001b[0m         \u001b[38;5;124m\"\u001b[39m\u001b[38;5;124mpath\u001b[39m\u001b[38;5;124m\"\u001b[39m: path,\n\u001b[0;32m     76\u001b[0m         \u001b[38;5;124m\"\u001b[39m\u001b[38;5;124msatellite_id\u001b[39m\u001b[38;5;124m\"\u001b[39m: satellite[\u001b[38;5;124m'\u001b[39m\u001b[38;5;124mid\u001b[39m\u001b[38;5;124m'\u001b[39m]\u001b[38;5;241m.\u001b[39mvalues[\u001b[38;5;241m0\u001b[39m],\n\u001b[0;32m     77\u001b[0m         \u001b[38;5;124m\"\u001b[39m\u001b[38;5;124mdate_origin\u001b[39m\u001b[38;5;124m\"\u001b[39m: date_origin\n\u001b[0;32m     78\u001b[0m     })\n",
      "\u001b[1;31mValueError\u001b[0m: File 0_4736.npy does not exist"
     ]
    }
   ],
   "source": [
    "repo.add_single_tile_from_path(\"0_4736.npy\", \"Sentinel-2\", datetime.now())\n",
    "\n",
    "# second attempt to add the same tile should raise an error\n",
    "# repo.add_single_tile_from_path(\"0_47362.npy\", \"Sentinel-2\", datetime.now())\n",
    "\n",
    "# providing an invalid path should raise an error\n",
    "#repo.add_single_tile_from_path(\"invalid_path.npy\", \"Sentinel-2\", datetime.now())\n",
    "\n",
    "# providing an invalid satellite name should raise an error\n",
    "#repo.add_single_tile_from_path(\"0_4736.npy\", \"Invalid-Satellite\", datetime.now())\n",
    "\n",
    "# providing an invalid date should raise an error\n",
    "#repo.add_tile(\"0_4736.npy\", \"Sentinel-2\", \"invalid_date\")\n"
   ]
  },
  {
   "cell_type": "code",
   "execution_count": 8,
   "metadata": {},
   "outputs": [
    {
     "data": {
      "text/html": [
       "<div>\n",
       "<style scoped>\n",
       "    .dataframe tbody tr th:only-of-type {\n",
       "        vertical-align: middle;\n",
       "    }\n",
       "\n",
       "    .dataframe tbody tr th {\n",
       "        vertical-align: top;\n",
       "    }\n",
       "\n",
       "    .dataframe thead th {\n",
       "        text-align: right;\n",
       "    }\n",
       "</style>\n",
       "<table border=\"1\" class=\"dataframe\">\n",
       "  <thead>\n",
       "    <tr style=\"text-align: right;\">\n",
       "      <th></th>\n",
       "      <th>id</th>\n",
       "      <th>path</th>\n",
       "      <th>satellite_id</th>\n",
       "      <th>date_created</th>\n",
       "      <th>date_origin</th>\n",
       "    </tr>\n",
       "  </thead>\n",
       "  <tbody>\n",
       "    <tr>\n",
       "      <th>0</th>\n",
       "      <td>1</td>\n",
       "      <td>0_4736.npy</td>\n",
       "      <td>1</td>\n",
       "      <td>2025-07-11 17:41:57.399</td>\n",
       "      <td>2025-07-11</td>\n",
       "    </tr>\n",
       "  </tbody>\n",
       "</table>\n",
       "</div>"
      ],
      "text/plain": [
       "   id        path  satellite_id            date_created date_origin\n",
       "0   1  0_4736.npy             1 2025-07-11 17:41:57.399  2025-07-11"
      ]
     },
     "execution_count": 8,
     "metadata": {},
     "output_type": "execute_result"
    }
   ],
   "source": [
    "repo.get_by_id(\"tile\", 1)"
   ]
  },
  {
   "cell_type": "markdown",
   "metadata": {},
   "source": [
    "We can also give a numpy array and have the repository save it dynamically"
   ]
  },
  {
   "cell_type": "code",
   "execution_count": 9,
   "metadata": {},
   "outputs": [
    {
     "data": {
      "text/html": [
       "<div>\n",
       "<style scoped>\n",
       "    .dataframe tbody tr th:only-of-type {\n",
       "        vertical-align: middle;\n",
       "    }\n",
       "\n",
       "    .dataframe tbody tr th {\n",
       "        vertical-align: top;\n",
       "    }\n",
       "\n",
       "    .dataframe thead th {\n",
       "        text-align: right;\n",
       "    }\n",
       "</style>\n",
       "<table border=\"1\" class=\"dataframe\">\n",
       "  <thead>\n",
       "    <tr style=\"text-align: right;\">\n",
       "      <th></th>\n",
       "      <th>id</th>\n",
       "      <th>path</th>\n",
       "      <th>satellite_id</th>\n",
       "      <th>date_created</th>\n",
       "      <th>date_origin</th>\n",
       "    </tr>\n",
       "  </thead>\n",
       "  <tbody>\n",
       "    <tr>\n",
       "      <th>0</th>\n",
       "      <td>2</td>\n",
       "      <td>.\\ea44132f-53f7-4215-8fa0-497cafb1d4fa.npy</td>\n",
       "      <td>1</td>\n",
       "      <td>2025-07-11 17:41:57.399</td>\n",
       "      <td>2025-07-11</td>\n",
       "    </tr>\n",
       "  </tbody>\n",
       "</table>\n",
       "</div>"
      ],
      "text/plain": [
       "   id                                        path  satellite_id  \\\n",
       "0   2  .\\ea44132f-53f7-4215-8fa0-497cafb1d4fa.npy             1   \n",
       "\n",
       "             date_created date_origin  \n",
       "0 2025-07-11 17:41:57.399  2025-07-11  "
      ]
     },
     "execution_count": 9,
     "metadata": {},
     "output_type": "execute_result"
    }
   ],
   "source": [
    "dummy_array = np.random.rand(100, 100)\n",
    "\n",
    "repo.add_single_tile_from_array(dummy_array, \"Sentinel-2\", datetime.now())"
   ]
  },
  {
   "cell_type": "code",
   "execution_count": null,
   "metadata": {},
   "outputs": [
    {
     "data": {
      "text/html": [
       "<div>\n",
       "<style scoped>\n",
       "    .dataframe tbody tr th:only-of-type {\n",
       "        vertical-align: middle;\n",
       "    }\n",
       "\n",
       "    .dataframe tbody tr th {\n",
       "        vertical-align: top;\n",
       "    }\n",
       "\n",
       "    .dataframe thead th {\n",
       "        text-align: right;\n",
       "    }\n",
       "</style>\n",
       "<table border=\"1\" class=\"dataframe\">\n",
       "  <thead>\n",
       "    <tr style=\"text-align: right;\">\n",
       "      <th></th>\n",
       "      <th>id</th>\n",
       "      <th>start_date</th>\n",
       "      <th>end_date</th>\n",
       "      <th>date_created</th>\n",
       "    </tr>\n",
       "  </thead>\n",
       "  <tbody>\n",
       "    <tr>\n",
       "      <th>0</th>\n",
       "      <td>1</td>\n",
       "      <td>2025-07-11</td>\n",
       "      <td>2025-07-11</td>\n",
       "      <td>2025-07-11 17:41:57.399</td>\n",
       "    </tr>\n",
       "  </tbody>\n",
       "</table>\n",
       "</div>"
      ],
      "text/plain": [
       "   id start_date   end_date            date_created\n",
       "0   1 2025-07-11 2025-07-11 2025-07-11 17:41:57.399"
      ]
     },
     "execution_count": 10,
     "metadata": {},
     "output_type": "execute_result"
    }
   ],
   "source": [
    "repo.add_timeseries_from_path(\n",
    "    paths=[\"timestep_1.npy\", \"timestep_2.npy\"],\n",
    "    satellite_name=\"Sentinel-2\",\n",
    "    date_origins=[datetime.now(), datetime.now()]\n",
    ")"
   ]
  },
  {
   "cell_type": "code",
   "execution_count": 10,
   "metadata": {},
   "outputs": [],
   "source": [
    "repo.save_changes()"
   ]
  },
  {
   "cell_type": "code",
   "execution_count": null,
   "metadata": {},
   "outputs": [
    {
     "name": "stdout",
     "output_type": "stream",
     "text": [
      "2025-07-15\n",
      "   id                                        path  satellite_id  \\\n",
      "0   1  .\\c5fe1363-40b0-41a0-8724-6b65643c6e4c.npy             1   \n",
      "\n",
      "             date_created date_origin  \n",
      "0 2025-07-15 15:00:58.742  2025-07-15  \n",
      "2025-07-16\n",
      "   id                                        path  satellite_id  \\\n",
      "0   2  .\\9387c7fe-55a8-4033-a2b2-50a487733c03.npy             1   \n",
      "\n",
      "             date_created date_origin  \n",
      "0 2025-07-15 15:00:58.742  2025-07-16  \n",
      "2025-07-17\n",
      "   id                                        path  satellite_id  \\\n",
      "0   3  .\\f939ec44-9aad-4f41-a711-4a3f5ebe7dd6.npy             1   \n",
      "\n",
      "             date_created date_origin  \n",
      "0 2025-07-15 15:00:58.742  2025-07-17  \n"
     ]
    },
    {
     "data": {
      "text/html": [
       "<div>\n",
       "<style scoped>\n",
       "    .dataframe tbody tr th:only-of-type {\n",
       "        vertical-align: middle;\n",
       "    }\n",
       "\n",
       "    .dataframe tbody tr th {\n",
       "        vertical-align: top;\n",
       "    }\n",
       "\n",
       "    .dataframe thead th {\n",
       "        text-align: right;\n",
       "    }\n",
       "</style>\n",
       "<table border=\"1\" class=\"dataframe\">\n",
       "  <thead>\n",
       "    <tr style=\"text-align: right;\">\n",
       "      <th></th>\n",
       "      <th>id</th>\n",
       "      <th>timeseries_id</th>\n",
       "      <th>high_resolution_id</th>\n",
       "      <th>date_created</th>\n",
       "    </tr>\n",
       "  </thead>\n",
       "  <tbody>\n",
       "    <tr>\n",
       "      <th>0</th>\n",
       "      <td>1</td>\n",
       "      <td>1</td>\n",
       "      <td>1</td>\n",
       "      <td>2025-07-15 15:00:58.742</td>\n",
       "    </tr>\n",
       "  </tbody>\n",
       "</table>\n",
       "</div>"
      ],
      "text/plain": [
       "   id  timeseries_id  high_resolution_id            date_created\n",
       "0   1              1                   1 2025-07-15 15:00:58.742"
      ]
     },
     "execution_count": 3,
     "metadata": {},
     "output_type": "execute_result"
    }
   ],
   "source": [
    "from datetime import timedelta\n",
    "\n",
    "\n",
    "dummy_high_res_data = np.random.rand(3, 100, 100)\n",
    "dummy_timeseries_data = np.random.rand(2, 3, 100, 100)\n",
    "\n",
    "repo.add_multimodal_from_array(dummy_high_res_data, dummy_timeseries_data, \"Sentinel-2\", datetime.now(), [datetime.now() + timedelta(days=1), datetime.now() + timedelta(days=2)])"
   ]
  }
 ],
 "metadata": {
  "kernelspec": {
   "display_name": "torchstack",
   "language": "python",
   "name": "python3"
  },
  "language_info": {
   "codemirror_mode": {
    "name": "ipython",
    "version": 3
   },
   "file_extension": ".py",
   "mimetype": "text/x-python",
   "name": "python",
   "nbconvert_exporter": "python",
   "pygments_lexer": "ipython3",
   "version": "3.11.8"
  }
 },
 "nbformat": 4,
 "nbformat_minor": 2
}
